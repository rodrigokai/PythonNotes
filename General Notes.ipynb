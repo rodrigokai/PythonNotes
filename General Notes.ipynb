{
 "cells": [
  {
   "cell_type": "markdown",
   "metadata": {},
   "source": [
    "# Python Course Notes"
   ]
  },
  {
   "cell_type": "markdown",
   "metadata": {},
   "source": [
    "# Usefull Jupyter Shortcuts"
   ]
  },
  {
   "cell_type": "markdown",
   "metadata": {},
   "source": [
    "Run a line: Ctrl + Enter<br>\n",
    "New line above: a<br>\n",
    "New line below: b<br>\n",
    "Delete a line: d,d<br>\n",
    "Undo delete: z<br>"
   ]
  },
  {
   "cell_type": "markdown",
   "metadata": {},
   "source": [
    "# Usefull Math Formulas"
   ]
  },
  {
   "cell_type": "code",
   "execution_count": null,
   "metadata": {},
   "outputs": [],
   "source": [
    "# Modulo (Return remainder value after division, usefull to find even or odd number)\n",
    "7 % 2 == 0"
   ]
  },
  {
   "cell_type": "code",
   "execution_count": null,
   "metadata": {},
   "outputs": [],
   "source": [
    "# Power\n",
    "2 ** 3"
   ]
  },
  {
   "cell_type": "code",
   "execution_count": null,
   "metadata": {},
   "outputs": [],
   "source": [
    "# Quarter root\n",
    "2 ** 0,5"
   ]
  },
  {
   "cell_type": "markdown",
   "metadata": {},
   "source": [
    "# Variables"
   ]
  },
  {
   "cell_type": "markdown",
   "metadata": {},
   "source": [
    "<b>Rules</b><br>\n",
    "    1. Can't start with number<br>\n",
    "    2. Can't start have space (use underline)<br>\n",
    "    3. Can't use special charactere<br>\n",
    "    4. Good practice: Just use lower case<br>\n",
    "    5. Good practice: Avoid use command words (str, if, with)<br><br>\n",
    "\n",
    "<b>To clear all variables</b><br>\n",
    "    * Kennel --> Restart"
   ]
  },
  {
   "cell_type": "markdown",
   "metadata": {},
   "source": [
    "# String Manipulation"
   ]
  },
  {
   "cell_type": "markdown",
   "metadata": {},
   "source": [
    "<b>Index slicing</b> <br>\n",
    "\n",
    "a = 'hello'<br>\n",
    "<br>\n",
    "h  e  l  l  o <br>\n",
    "0  1  2  3  4 <br>\n",
    "0 -4 -3 -2 -1 <br><br>\n",
    "\n",
    "a [0] --> 'h'<br>\n",
    "a [-1] --> 'e'<br><br>\n",
    "\n",
    "a [2:] --> 'llo' (Start with index 2) <br>\n",
    "a [:2] --> 'he' (Stop before index 2) <br>\n",
    "a [2:4] --> 'll' (Start with index 2 and stop before index 4) <br>\n",
    "a [::2] --> 'hlo' (Jump 2 indexes)<br>\n",
    "a [::-1] --> 'olleh' (Reverse)<br>"
   ]
  },
  {
   "cell_type": "code",
   "execution_count": null,
   "metadata": {},
   "outputs": [],
   "source": [
    "a = 'Hello'\n",
    "a [0] # Return 'H'"
   ]
  },
  {
   "cell_type": "code",
   "execution_count": null,
   "metadata": {},
   "outputs": [],
   "source": [
    "a = 'Hello'\n",
    "a [-1] # Return 'o'"
   ]
  },
  {
   "cell_type": "code",
   "execution_count": null,
   "metadata": {},
   "outputs": [],
   "source": [
    "a = 'Hello'\n",
    "a [2:] # Return 'llo' (Start with index 2)"
   ]
  },
  {
   "cell_type": "code",
   "execution_count": null,
   "metadata": {},
   "outputs": [],
   "source": [
    "a = 'Hello'\n",
    "a [:2] # Return 'he' (Stop before index 2)"
   ]
  },
  {
   "cell_type": "code",
   "execution_count": null,
   "metadata": {},
   "outputs": [],
   "source": [
    "a = 'Hello'\n",
    "a [2:4] # Return 'll' (Start with index 2 and stop before index 4)"
   ]
  },
  {
   "cell_type": "code",
   "execution_count": null,
   "metadata": {},
   "outputs": [],
   "source": [
    "a = 'Hello'\n",
    "a [::2] # Return 'hlo' (Jump 2 indexes)"
   ]
  },
  {
   "cell_type": "code",
   "execution_count": null,
   "metadata": {},
   "outputs": [],
   "source": [
    "a = 'Hello'\n",
    "a [::-1] # Return 'olleh' (Reverse)"
   ]
  },
  {
   "cell_type": "markdown",
   "metadata": {},
   "source": [
    "<b>Concatenation</b>"
   ]
  },
  {
   "cell_type": "code",
   "execution_count": null,
   "metadata": {},
   "outputs": [],
   "source": [
    "'P' + 'am' # Return 'Pam'"
   ]
  },
  {
   "cell_type": "markdown",
   "metadata": {},
   "source": [
    "<b>f-string</b>"
   ]
  },
  {
   "cell_type": "code",
   "execution_count": null,
   "metadata": {},
   "outputs": [],
   "source": [
    "# Use f-string to create a string with a variable\n",
    "\n",
    "result = 100*2\n",
    "\n",
    "text_result = f'the result is {result}'\n",
    "\n",
    "print(text_result)"
   ]
  },
  {
   "cell_type": "markdown",
   "metadata": {},
   "source": [
    "<b>Usefull functions</b>"
   ]
  },
  {
   "cell_type": "code",
   "execution_count": null,
   "metadata": {},
   "outputs": [],
   "source": [
    "# .upper()\n",
    "\n",
    "print('test'.upper()) # TEST"
   ]
  },
  {
   "cell_type": "code",
   "execution_count": null,
   "metadata": {},
   "outputs": [],
   "source": [
    "# .lower()\n",
    "\n",
    "print('TEST'.lower()) #test"
   ]
  },
  {
   "cell_type": "code",
   "execution_count": null,
   "metadata": {},
   "outputs": [],
   "source": [
    "# .split()\n",
    "\n",
    "print('Hello World'.split()) # ['Hello','World']\n",
    "\n",
    "print('Hello World'.split('o')) # ['Hell',' W','rld']"
   ]
  },
  {
   "cell_type": "code",
   "execution_count": 33,
   "metadata": {},
   "outputs": [
    {
     "name": "stdout",
     "output_type": "stream",
     "text": [
      "Hello! World\n"
     ]
    }
   ],
   "source": [
    "# .strip() Remove a character in the end of the string (right)\n",
    "\n",
    "print('Hello! World!'.strip('!')) # Hello World"
   ]
  },
  {
   "cell_type": "code",
   "execution_count": null,
   "metadata": {},
   "outputs": [],
   "source": [
    "# .isdigit()\n",
    "\n",
    "'1231312'.isdigit() #True\n",
    "\n",
    "'1231as312'.isdigit() #False"
   ]
  },
  {
   "cell_type": "markdown",
   "metadata": {},
   "source": [
    "# List Comprehension"
   ]
  },
  {
   "cell_type": "code",
   "execution_count": null,
   "metadata": {},
   "outputs": [],
   "source": [
    "# Use list Comprehension to edit a list or range in one line\n",
    "\n",
    "list1 = [1,2,3,4,5]\n",
    "\n",
    "list2 = [i**2 for i in list1 if i > 3]\n",
    "\n",
    "print (list2)"
   ]
  },
  {
   "cell_type": "code",
   "execution_count": null,
   "metadata": {},
   "outputs": [],
   "source": [
    "# Logical binary opetaration\n",
    "\n",
    "or and () ^ (xor)"
   ]
  },
  {
   "cell_type": "code",
   "execution_count": null,
   "metadata": {},
   "outputs": [],
   "source": [
    "True ^True ^ False"
   ]
  },
  {
   "cell_type": "code",
   "execution_count": null,
   "metadata": {},
   "outputs": [],
   "source": [
    "len([1])"
   ]
  },
  {
   "cell_type": "markdown",
   "metadata": {},
   "source": [
    "# Functions with infinite parameters (Args and Kwargs)"
   ]
  },
  {
   "cell_type": "code",
   "execution_count": null,
   "metadata": {},
   "outputs": [],
   "source": [
    "# Use *args to input infinite parameters\n",
    "\n",
    "def myfunc (*args):\n",
    "    return sum(args)\n",
    "\n",
    "myfunc(1,2,3,4,5)"
   ]
  },
  {
   "cell_type": "code",
   "execution_count": null,
   "metadata": {},
   "outputs": [],
   "source": [
    "# Use **kwargs to input infinite dictionaries\n",
    "\n",
    "def myfunc (**kwargs):\n",
    "    if 'fruit'in kwargs:\n",
    "        return '{} is a fruit'.format(kwargs['fruit'])\n",
    "    else:\n",
    "        return 'There is no fruit'\n",
    "    \n",
    "myfunc(fruit = 'apple')"
   ]
  },
  {
   "cell_type": "markdown",
   "metadata": {},
   "source": [
    "<b>Important:</b> Remember that return causes a function to exit immediately. So our original implementation always ran for just one iteration. "
   ]
  },
  {
   "cell_type": "code",
   "execution_count": null,
   "metadata": {},
   "outputs": [],
   "source": [
    "# Example using the index number\n",
    "\n",
    "x = 'Text'\n",
    "\n",
    "out = []\n",
    "\n",
    "for i in range(len(x)):\n",
    "    if i % 2 ==0:\n",
    "        out.append(x[i].lower())\n",
    "    else:\n",
    "        out.append(x[i].upper())\n",
    "\n",
    "print (''.join(out))"
   ]
  },
  {
   "cell_type": "code",
   "execution_count": null,
   "metadata": {},
   "outputs": [],
   "source": [
    "# Example using while and for looping\n",
    "\n",
    "def summer_69(arr):\n",
    "    \n",
    "    total =0\n",
    "    add = True\n",
    "    \n",
    "    for n in arr:\n",
    "        while add:\n",
    "            if n != 6:\n",
    "                total += n\n",
    "                break\n",
    "            else:\n",
    "                add = False\n",
    "                \n",
    "        while not add:\n",
    "            if n == 9:\n",
    "                add = True\n",
    "                break\n",
    "            else:\n",
    "                break\n",
    "    return total\n",
    "\n",
    "summer_69([2, 1, 6, 9, 11])"
   ]
  },
  {
   "cell_type": "code",
   "execution_count": 34,
   "metadata": {},
   "outputs": [
    {
     "data": {
      "text/plain": [
       "{'casino': [0, 1], 'they': [1]}"
      ]
     },
     "execution_count": 34,
     "metadata": {},
     "output_type": "execute_result"
    }
   ],
   "source": [
    "# Example creating a dictionary\n",
    "\n",
    "def word_search(documents, keyword):\n",
    "    # list to hold the indices of matching documents\n",
    "    indices = [] \n",
    "    # Iterate through the indices (i) and elements (doc) of documents\n",
    "    for i, doc in enumerate(documents):\n",
    "        # Split the string doc into a list of words (according to whitespace)\n",
    "        tokens = doc.split()\n",
    "        # Make a transformed list where we 'normalize' each word to facilitate matching.\n",
    "        # Periods and commas are removed from the end of each word, and it's set to all lowercase.\n",
    "        normalized = [token.rstrip('.,').lower() for token in tokens]\n",
    "        # Is there a match? If so, update the list of matching indices.\n",
    "        if keyword.lower() in normalized:\n",
    "            indices.append(i)\n",
    "    return indices\n",
    "\n",
    "def multi_word_search(doc_list, keywords):\n",
    "    \n",
    "    result = {}\n",
    "    \n",
    "    for k in keywords:\n",
    "        result[k] = word_search(doc_list, k)\n",
    "    return result\n",
    "\n",
    "doc_list = [\"The Learn Python Challenge Casino.\", \"They bought a car and a casino\", \"Casinoville\"]\n",
    "keywords = ['casino', 'they']\n",
    "multi_word_search(doc_list, keywords)"
   ]
  },
  {
   "cell_type": "markdown",
   "metadata": {},
   "source": [
    "# Simplify code with Map, Filter and Lambda"
   ]
  },
  {
   "cell_type": "code",
   "execution_count": null,
   "metadata": {},
   "outputs": [],
   "source": [
    "# Use MAPPING to apply a function in all itens in a list\n",
    "# Expression: map (<function>,<list_name>)\n",
    "\n",
    "def square (n):\n",
    "    return n**2\n",
    "\n",
    "mylist = [1,2,3,4]\n",
    "\n",
    "list(map(square,mylist)) "
   ]
  },
  {
   "cell_type": "code",
   "execution_count": null,
   "metadata": {},
   "outputs": [],
   "source": [
    "# Use FILTER to filter a list with a boolean function\n",
    "# Expression: filter (<function>,<list_name>)\n",
    "\n",
    "def even_find (n):\n",
    "    return n % 2 ==0\n",
    "\n",
    "mylist =  [1,2,3,4,5]\n",
    "\n",
    "list(filter(even_find,mylist))"
   ]
  },
  {
   "cell_type": "code",
   "execution_count": null,
   "metadata": {},
   "outputs": [],
   "source": [
    "# Use LAMBDA to simplify a mapping ou filter expression\n",
    "# Expression: lambda <variable> : <condicion or calc>\n",
    "\n",
    "mylist = [1,2,3,4,5]\n",
    "\n",
    "list(map(lambda n: n**2, mylist))"
   ]
  }
 ],
 "metadata": {
  "kernelspec": {
   "display_name": "Python 3",
   "language": "python",
   "name": "python3"
  },
  "language_info": {
   "codemirror_mode": {
    "name": "ipython",
    "version": 3
   },
   "file_extension": ".py",
   "mimetype": "text/x-python",
   "name": "python",
   "nbconvert_exporter": "python",
   "pygments_lexer": "ipython3",
   "version": "3.7.6"
  }
 },
 "nbformat": 4,
 "nbformat_minor": 4
}
